{
 "cells": [
  {
   "cell_type": "markdown",
   "metadata": {},
   "source": [
    "# Análise exploratória de dados preliminar"
   ]
  },
  {
   "cell_type": "markdown",
   "metadata": {},
   "source": [
    "Arquivo enviado todo mês pela ECT no formato Febraban (360) contendo cinco tipos de registros:\n",
    "    A - Cabeçalho\n",
    "    B - Movimentos\n",
    "    C - Créditos\n",
    "    D - Débitos \n",
    "    Z - Rodapé (Totalizadores)\n"
   ]
  },
  {
   "cell_type": "code",
   "execution_count": 290,
   "metadata": {},
   "outputs": [],
   "source": [
    "#importar bibliotecas\n",
    "import pandas as pd\n",
    "import matplotlib.pyplot as plt\n",
    "import pyodbc as db\n",
    "from decimal import Decimal"
   ]
  },
  {
   "cell_type": "code",
   "execution_count": 291,
   "metadata": {},
   "outputs": [],
   "source": [
    "#Metadados da extração\n",
    "identificador_carga = 1\n",
    "conta = 'Correio' #Correio, Rede Lógica, Frotas, Telefonia, etc\n",
    "fonte = 'Fatura - Arquivo Febraban - 360 - A - Cabeçalho B - Movimentos C - Créditos D - Débitos Z - Rodapé (Totalizadores)' #Faura, banco de dados, web service, Boa Vista, etc\n",
    "proprietario = 'Correios'\n",
    "periodicidade = 'mensal' #pode ser anual, semestral ou mensal, em casos de muita movimentação\n",
    "periodo = '2017-01'\n",
    "observacoes = 'Verificar envio do arquivo com Felipe lá pelo dia 10/15 de cada mês'\n",
    "url_extracao = '' #caso arquivo seja extraído por download\n",
    "tipo_banco_dados_extracao = '' #caso seja estraído via banco de dados\n",
    "nome_database ='' #caso seja extraído via banco de dados\n",
    "nome_tabela = '' #caso seja extraído via banco de dados\n",
    "ip_extracao = '' #caso seja extraído via banco de dados\n",
    "porta_extracao = '' #caso seja extraído via banco de dados\n",
    "credenciais = '' #usuario e senha caso seja extraído via banco de dados\n",
    "script_extracao = '' #caso seja extraído via banco de dados\n",
    "usuario_extracao = '' #caso seja extraído via banco de dados\n",
    "data_extracao = '2018/06/14'\n",
    "#Metadados da análise\n",
    "usuario_analise_preliminar = 'Robson Junqueira da Rosa' \n",
    "data_analise_preliminar = '2018/06/18'\n",
    "arquivo = \"Correio-2017-01.txt\"\n",
    "formato_arquivo = 'txt' #excel, txt, csc, etc\n",
    "localizacao_arquivo = 'V:\\BI_COMAC\\Dados\\Brutos\\Correios'"
   ]
  },
  {
   "cell_type": "code",
   "execution_count": 292,
   "metadata": {},
   "outputs": [],
   "source": [
    "count_a = 0\n",
    "count_b = 0\n",
    "count_c = 0\n",
    "count_d = 0\n",
    "count_z = 0"
   ]
  },
  {
   "cell_type": "code",
   "execution_count": 293,
   "metadata": {},
   "outputs": [],
   "source": [
    "#Estabelece conexão com o banco de dados\n",
    "database = db.connect('DRIVER={MySQL ODBC 8.0 ANSI Driver};SERVER=localhost;DATABASE=sea_lake; Uid=root;Pwd=@Fpolis18;OPTION=3;')\n",
    "cursor = database.cursor()\n",
    "#Criar os inserts para cada tipo de registro\n",
    "query_a = \"\"\"INSERT INTO correio_fatura_tipo_a (numero_sequencial_registro, codigo_registro, mes_fatura, ano_fatura, numero_fatura, numero_contrato, numero_centro_custo, cnpj, codigo_barras, filler_a) VALUES (?, ?, ?, ?, ?, ?, ?, ?, ?, ?)\"\"\"\n",
    "query_b = \"\"\"INSERT INTO correio_fatura_tipo_b (numero_sequencial_registro, codigo_registro, mes_fatura, ano_fatura, numero_lancamento, numero_cartao, data_postagem, descricao_servico, numero_documento, numero_lote, servico_adicional, numero_destino, numero_unidade_postagem, unidade_postagem, peso, quantidade, valor_unitario, valor_desconto, valor_liquido, nota_fiscal_cliente, codigo_servico_ect, responsavel_cartao, numero_objeto, filler_b) VALUES (?, ?, ?, ?, ?, ?, ?, ?, ?, ?, ?, ?, ?, ?, ?, ?, ?, ?, ?, ?, ?, ?, ?, ?)\"\"\"\n",
    "query_c = \"\"\"INSERT INTO correio_fatura_tipo_c (numero_sequencial_registro, codigo_registro, mes_fatura, ano_fatura, numero_lancamento_credito, descricao_credito, valor_credito_original, valor_credito_corrigido, codigo_operacao_ect, filler_c) VALUES (?, ?, ?, ?, ?, ?, ?, ?, ?, ?)\"\"\"\n",
    "query_d = \"\"\"INSERT INTO correio_fatura_tipo_d (numero_sequencial_registro, codigo_registro, mes_fatura, ano_fatura, descricao_debito, valor_debito, codigo_operacao_ect, filler_d) VALUES (?, ?, ?, ?, ?, ?, ?, ?)\"\"\"\n",
    "query_z = \"\"\"INSERT INTO correio_fatura_tipo_z (numero_sequencial_registro, codigo_registro, mes_fatura, ano_fatura, quantidade_tipo_b, quantidade_tipo_c, valor_total_lancamentos_debitos, valor_total_creditos_corrigidos, valor_total_outros_debitos, valor_total_outros_creditos, valor_total_fatura, filler_z) VALUES (?, ?, ?, ?, ?, ?, ?, ?, ?, ?, ?, ?)\"\"\"\n",
    "query_carga = \"\"\"INSERT INTO carga (identificador_carga, conta, fonte, proprietario, periodicidade, periodo, formato_arquivo, localizacao_arquivo, observacoes, url_extracao, tipo_banco_dados_extracao, nome_database, nome_tabela, ip_extracao, porta_extracao, credenciais, script_extracao, usuario_extracao, data_extracao, usuario_analise_preliminar, data_analise_preliminar) VALUES (?, ?, ?, ?, ?, ?, ?, ?, ?, ?, ?, ?, ?, ?, ?, ?, ?, ?, ?, ?, ?)\"\"\""
   ]
  },
  {
   "cell_type": "code",
   "execution_count": 294,
   "metadata": {},
   "outputs": [],
   "source": [
    "#Ler o arquivo txt e converter em csv\n",
    "#\"Correio-2017-01.txt\" - ok\n",
    "#\"Correio-2017-02.txt\" - ok\n",
    "#\"Correio-2017-03.txt\" - ok\n",
    "#\"Correio-2017-04.txt\" - ok\n",
    "#\"Correio-2017-05.txt\" - ok\n",
    "#\"Correio-2017-06.txt\" - ok\n",
    "#\"Correio-2017-07.txt\" - ok\n",
    "#\"Correio-2017-08.txt\" - ok\n",
    "#\"Correio-2017-09.txt\" - ok\n",
    "#\"Correio-2017-10.txt\" - ok\n",
    "#\"Correio-2017-11.txt\" - ok\n",
    "#\"Correio-2017-12.txt\" - ok\n",
    "#\"Correio-2018-01.txt\" - ok\n",
    "#\"Correio-2018-02.txt\" - ok\n",
    "#\"Correio-2018-03.txt\" - ok\n",
    "#\"Correio-2018-04.txt\" - ok\n",
    "#\"Correio-2018-05.txt\" - ok\n",
    "file = open(arquivo, 'r') #, encoding= \"utf8\" --- apenas para os arquivos de 2018"
   ]
  },
  {
   "cell_type": "code",
   "execution_count": 295,
   "metadata": {},
   "outputs": [],
   "source": [
    "for line in file: \n",
    "    numero_sequencial_registro = int(line[0 : 7]) #NuSeq\n",
    "    codigo_registro = str(line[7]) #CodReg\n",
    "    #Cabeçalho\n",
    "    if (codigo_registro == \"A\"):\n",
    "        count_a = count_a + 1\n",
    "        mes_fatura = str(line[8 : 10]) #A_03\n",
    "        ano_fatura = str(line[10 : 14]) #A_04\n",
    "        numero_fatura = str(line[14 : 26]) #A_05\n",
    "        numero_contrato = line[26 : 38] #A_06\n",
    "        numero_centro_custo = line[38 : 47] #A_07\n",
    "        cnpj = line[47 : 61] #A_08 \n",
    "        codigo_barras = line[61 : 105] #A_09\n",
    "        filler_a = line[105 : 361] #A_10\n",
    "        values = (numero_sequencial_registro, codigo_registro, mes_fatura, ano_fatura, numero_fatura, numero_contrato, numero_centro_custo, cnpj, codigo_barras, filler_a)\n",
    "        #cursor.execute(query_a, values)\n",
    "    #Movimentos\n",
    "    if (codigo_registro == \"B\"):\n",
    "        count_b = count_b + 1\n",
    "        numero_lancamento = line[8: 27] #B_03\n",
    "        numero_cartao = line[27: 39] #B_04\n",
    "        data_postagem = line [39 : 49] #B_05\n",
    "        descricao_servico = line[49 : 99] #B_06\n",
    "        numero_documento = line[99 : 119] #B_07\n",
    "        numero_lote =line[119 : 127] #B_08\n",
    "        servico_adicional = line[127 : 135] #B_09\n",
    "        numero_destino = line[135 : 143] #B_10\n",
    "        numero_unidade_postagem = line[143 : 153] #B_11\n",
    "        unidade_postagem = line[153 : 203] #B_12\n",
    "        peso = line[203 : 211] #B_13\n",
    "        quantidade = line[211 : 219] #B_14\n",
    "        valor_unitario = Decimal(line[219 : 228]) #B_15\n",
    "        valor_desconto = Decimal(line[228 : 237]) #B_16\n",
    "        valor_liquido = Decimal(line[237: 246]) #B_17\n",
    "        nota_fiscal_cliente = line[246 : 261] #B_18\n",
    "        codigo_servico_ect = line[261 : 266] #B_19\n",
    "        responsavel_cartao = line[266 : 336] #B_20\n",
    "        numero_objeto = line[336 : 349] #B_21\n",
    "        filler_b = line[349 : 361] #B_22\n",
    "        values = (numero_sequencial_registro, codigo_registro, mes_fatura, ano_fatura, numero_lancamento, numero_cartao, data_postagem, descricao_servico, numero_documento, numero_lote, servico_adicional, numero_destino, numero_unidade_postagem, unidade_postagem, peso, quantidade, valor_unitario / 100, valor_desconto / 100, valor_liquido / 100, nota_fiscal_cliente, codigo_servico_ect, responsavel_cartao, numero_objeto, filler_b)\n",
    "        #cursor.execute(query_b, values)\n",
    "    #Créditos\n",
    "    if (codigo_registro == \"C\"):\n",
    "        count_c = count_c + 1\n",
    "        numero_lancamento_credito = line[8 : 27] #C_03\n",
    "        descricao_credito = line[27 : 127] #C_04\n",
    "        valor_credito_original = Decimal(line[127 : 136]) #C_05\n",
    "        valor_credito_corrigido = Decimal(line[136 : 145]) #C_06\n",
    "        codigo_operacao_ect = line[145 : 148] #C_07\n",
    "        filler_c = line[148 : 361] #C_08\n",
    "        values = (numero_sequencial_registro, codigo_registro, mes_fatura, ano_fatura, numero_lancamento_credito, descricao_credito, valor_credito_original / 100, valor_credito_corrigido / 100, codigo_operacao_ect, filler_c)\n",
    "        #cursor.execute(query_c, values)\n",
    "    #Débitos\n",
    "    if (codigo_registro == \"D\"):\n",
    "        count_d = count_d + 1\n",
    "        descricao_debito = line[8 : 108] #D_03\n",
    "        valor_debito = Decimal(line[108 : 117]) #D_04\n",
    "        codigo_operacao_ect = line[117 : 120] #D_05\n",
    "        filler_d = line[120 : 361] #D_06\n",
    "        values = (numero_sequencial_registro, codigo_registro, mes_fatura, ano_fatura, descricao_debito, valor_debito / 100, codigo_operacao_ect, filler_d)\n",
    "        #cursor.execute(query_d, values)\n",
    "    #Rodapé\n",
    "    if (codigo_registro == \"Z\"):\n",
    "        count_z = count_z + 1\n",
    "        quantidade_tipo_b = line[8 : 15] #Z_03\n",
    "        quantidade_tipo_c = line[15 : 22] #Z_04\n",
    "        valor_total_lancamentos_debitos = Decimal(line[22 : 37]) #Z_05\n",
    "        valor_total_creditos_corrigidos = Decimal(line[37 : 52]) #Z_06\n",
    "        valor_total_outros_debitos = Decimal(line[52 : 67]) #Z_07\n",
    "        valor_total_outros_creditos = Decimal(line[67: 82]) #Z_08\n",
    "        valor_total_fatura = Decimal(line[82 : 97]) #Z_09\n",
    "        filler_z = line[97 : 361] #Z_10\n",
    "        values = (numero_sequencial_registro, codigo_registro, mes_fatura, ano_fatura, quantidade_tipo_b, quantidade_tipo_c, valor_total_lancamentos_debitos / 100, valor_total_creditos_corrigidos / 100, valor_total_outros_debitos / 100, valor_total_outros_creditos / 100, valor_total_fatura / 100, filler_z)\n",
    "        #cursor.execute(query_z, values)"
   ]
  },
  {
   "cell_type": "code",
   "execution_count": 296,
   "metadata": {},
   "outputs": [
    {
     "name": "stdout",
     "output_type": "stream",
     "text": [
      "(1, 'Correio', 'Fatura - Arquivo Febraban - 360 - A - Cabeçalho B - Movimentos C - Créditos D - Débitos Z - Rodapé (Totalizadores)', 'Correios', 'mensal', '2017-01', 'txt', 'V:\\\\BI_COMAC\\\\Dados\\\\Brutos\\\\Correios', 'Verificar envio do arquivo com Felipe lá pelo dia 10/15 de cada mês', '', '', '', '', '', '', '', '', '', '2018/06/14', 'Robson Junqueira da Rosa', '2018/06/18')\n",
      "<built-in method execute of pyodbc.Cursor object at 0x000002B015C0CEB8>\n",
      "1 185283 0 337 1\n",
      "1 0185283 0000000 0 337 1\n"
     ]
    }
   ],
   "source": [
    "values = (identificador_carga, conta, fonte, proprietario, periodicidade, periodo, formato_arquivo, localizacao_arquivo, observacoes, url_extracao, tipo_banco_dados_extracao, nome_database, nome_tabela, ip_extracao, porta_extracao, credenciais, script_extracao, usuario_extracao, data_extracao, usuario_analise_preliminar, data_analise_preliminar)\n",
    "print (values)\n",
    "cursor.execute(query_carga, values)  \n",
    "print (cursor.execute)\n",
    "cursor.close()\n",
    "database.commit()\n",
    "database.close()\n",
    "print (count_a, count_b, count_c, count_d, count_z)\n",
    "quantidade_tipo_d = int(numero_sequencial_registro) - int(quantidade_tipo_b) - int(quantidade_tipo_c) - 2 #Tipo A e Tipo Z\n",
    "print ('1', quantidade_tipo_b, quantidade_tipo_c, '0', quantidade_tipo_d, '1'  )\n",
    "file.close()"
   ]
  },
  {
   "cell_type": "code",
   "execution_count": 297,
   "metadata": {},
   "outputs": [
    {
     "name": "stdout",
     "output_type": "stream",
     "text": [
      "(1, 'Correio', 'Fatura - Arquivo Febraban - 360 - A - Cabeçalho B - Movimentos C - Créditos D - Débitos Z - Rodapé (Totalizadores)', 'Correios', 'mensal', '2017-01', 'txt', 'V:\\\\BI_COMAC\\\\Dados\\\\Brutos\\\\Correios', 'Verificar envio do arquivo com Felipe lá pelo dia 10/15 de cada mês', '', '', '', '', '', '', '', '', '', '2018/06/14', 'Robson Junqueira da Rosa', '2018/06/18')\n"
     ]
    }
   ],
   "source": [
    "print (values)\n",
    "#Ler o arquivo csv e transforma-lo em um data frame\n",
    "#nome_arquivo = '360_14284430000197407036R&00068001_2018_05_08_110555-corrigido.csv'\n",
    "#df = pd.read_csv(nome_arquivo)"
   ]
  },
  {
   "cell_type": "markdown",
   "metadata": {},
   "source": [
    "## Visualização da amostra dos registros (primeiros e últimos do arquivo)"
   ]
  },
  {
   "cell_type": "code",
   "execution_count": 38,
   "metadata": {},
   "outputs": [],
   "source": [
    "#imprimir o data frame, mostrando registros do início e do final do arquivo\n",
    "#df"
   ]
  },
  {
   "cell_type": "code",
   "execution_count": 39,
   "metadata": {},
   "outputs": [],
   "source": [
    "#Verifica linhas e colunas do arquivo, respectivamente.\n",
    "#df.shape"
   ]
  },
  {
   "cell_type": "code",
   "execution_count": 40,
   "metadata": {},
   "outputs": [],
   "source": [
    "#Colunas preenchidas por linha. Quanto maior o número melhor foi preenchido o registro. \n",
    "#Média de mais de 70 campos preenchidos dos 131.\n",
    "#preenchimento_linhas = df.count(axis='columns')"
   ]
  },
  {
   "cell_type": "code",
   "execution_count": 41,
   "metadata": {},
   "outputs": [],
   "source": [
    "#preenchimento_linhas"
   ]
  },
  {
   "cell_type": "code",
   "execution_count": 194,
   "metadata": {},
   "outputs": [
    {
     "data": {
      "image/png": "[encoded data removed]",
      "text/plain": [
       "<Figure size 432x288 with 1 Axes>"
      ]
     },
     "metadata": {},
     "output_type": "display_data"
    }
   ],
   "source": [
    "#Gerar gráfico de análise das linhas\n",
    "plt.plot(preenchimento_linhas)\n",
    "plt.show()"
   ]
  },
  {
   "cell_type": "code",
   "execution_count": 195,
   "metadata": {},
   "outputs": [],
   "source": [
    "#Gerar média de preenchimento das linhas"
   ]
  },
  {
   "cell_type": "code",
   "execution_count": 196,
   "metadata": {},
   "outputs": [],
   "source": [
    "#Verificar quais campos analisar, sendo que os campos com preenchimento perto do número de registros são os melhore.\n",
    "preenchimento_colunas = df.count(axis='rows')"
   ]
  },
  {
   "cell_type": "code",
   "execution_count": 42,
   "metadata": {},
   "outputs": [],
   "source": [
    "#Script de criação das tabelas"
   ]
  },
  {
   "cell_type": "markdown",
   "metadata": {},
   "source": [
    "#Tabela de movimentos do Correio obtidos da fatura mensal - Cabeçalho\n",
    "create table correio_fatura_tipo_a (\n",
    "    numero_sequencial_registro varchar(7), \n",
    "    codigo_registro varchar(1), \n",
    "    mes_fatura varchar(2), \n",
    "    ano_fatura varchar(4), \n",
    "    numero_fatura varchar(12), \n",
    "    numero_contrato varchar(12), \n",
    "    numero_centro_custo varchar(9), \n",
    "    cnpj varchar(14), \n",
    "    codigo_barras varchar(44), \n",
    "    filler_a varchar(255)\n",
    ");\n",
    "\n",
    "#Tabela de movimentos do Correio obtidos da fatura mensal - Movimentos\n",
    "create table correio_fatura_tipo_b (\n",
    "    numero_sequencial_registro varchar(7), \n",
    "    codigo_registro varchar(1), \n",
    "    mes_fatura varchar(2), \n",
    "    ano_fatura varchar(4), \n",
    "    numero_lancamento varchar(19), \n",
    "    numero_cartao varchar(12), \n",
    "    data_postagem varchar(10), \n",
    "    descricao_servico varchar(50), \n",
    "    numero_documento varchar(20), #Rever para o mesmo tamanho do Completo\n",
    "    numero_lote varchar(8),\n",
    "    servico_adicional varchar(8),\n",
    "    numero_destino varchar(8),\n",
    "    numero_unidade_postagem varchar(10),\n",
    "    unidade_postagem varchar(50),\n",
    "    peso int,\n",
    "    quantidade int,\n",
    "    valor_unitario decimal(9,2),\n",
    "    valor_desconto decimal(9,2),\n",
    "    valor_liquido decimal(9,2),\n",
    "    nota_fiscal_cliente varchar(15),\n",
    "    codigo_servico_ect varchar(5),\n",
    "    responsavel_cartao varchar(70),\n",
    "    numero_objeto varchar(13),\n",
    "    filler_b varchar(11)\n",
    ");\n",
    "\n",
    "#Tabela de movimentos do Correio obtidos da fatura mensal - Créditos\n",
    "create table correio_fatura_tipo_c (\n",
    "    numero_sequencial_registro varchar(7), \n",
    "    codigo_registro varchar(1), \n",
    "    mes_fatura varchar(2), \n",
    "    ano_fatura varchar(4), \n",
    "    numero_lancamento_credito varchar(19), \t\n",
    "    descricao_credito varchar(100),\n",
    "    valor_credito_original decimal(9,2), \n",
    "    valor_credito_corrigido decimal(9,2), \n",
    "    codigo_operacao_ect varchar(3), \n",
    "    filler_c varchar(212)\n",
    ");\n",
    "\n",
    "#Tabela de movimentos do Correio obtidos da fatura mensal - Débitos\n",
    "create table correio_fatura_tipo_d (\n",
    "    numero_sequencial_registro varchar(7), \n",
    "    codigo_registro varchar(1), \n",
    "    mes_fatura varchar(2), \n",
    "    ano_fatura varchar(4), \n",
    "    descricao_debito varchar(100), \t\n",
    "    valor_debito decimal(9,2), \n",
    "    codigo_operacao_ect varchar(3), \n",
    "    filler_d varchar(240)\n",
    ");\n",
    "\n",
    "#Tabela de movimentos do Correio obtidos da fatura mensal - Rodapé\n",
    "create table correio_fatura_tipo_z (\n",
    "    numero_sequencial_registro varchar(7), \n",
    "    codigo_registro varchar(1), \n",
    "    mes_fatura varchar(2), \n",
    "    ano_fatura varchar(4), \n",
    "    quantidade_tipo_b int,\n",
    "    quantidade_tipo_c int,\n",
    "    valor_total_lancamentos_debitos decimal(15,2),  \t\n",
    "    valor_total_creditos_corrigidos decimal(15,2), \n",
    "    valor_total_outros_debitos decimal(15,2),  \t\n",
    "    valor_total_outros_creditos decimal(15,2), \n",
    "    valor_total_fatura decimal(15,2), \n",
    "    filler_z varchar(263)\n",
    ");\n",
    "\n",
    "\n",
    "\n",
    "#Tabela de metadados das cargas\n",
    "create table carga (\n",
    "    identificador_carga int, \n",
    "    conta varchar(50), \n",
    "    fonte varchar(1000),\n",
    "    proprietario varchar(50),\n",
    "    periodicidade varchar(20),\n",
    "    periodo varchar(20),\n",
    "    arquivo varchar(200),\n",
    "    formato_arquivo varchar(20),\n",
    "    localizacao_arquivo varchar(50),\n",
    "    observacoes varchar(500),\n",
    "    url_extracao varchar(100),\n",
    "    tipo_banco_dados_extracao varchar(50),\n",
    "    nome_database varchar(50),\n",
    "    nome_tabela varchar(100),\n",
    "    ip_extracao varchar(20),\n",
    "    porta_extracao varchar(10),\n",
    "    credenciais varchar(100),\n",
    "    script_extracao varchar(1000),\n",
    "    usuario_extracao varchar(100),\n",
    "    data_extracao datetime,\n",
    "    usuario_analise_preliminar varchar(100),\n",
    "    data_analise_preliminar datetime\n",
    ");\n"
   ]
  },
  {
   "cell_type": "code",
   "execution_count": null,
   "metadata": {},
   "outputs": [],
   "source": []
  }
 ],
 "metadata": {
  "kernelspec": {
   "display_name": "Python 3",
   "language": "python",
   "name": "python3"
  },
  "language_info": {
   "codemirror_mode": {
    "name": "ipython",
    "version": 3
   },
   "file_extension": ".py",
   "mimetype": "text/x-python",
   "name": "python",
   "nbconvert_exporter": "python",
   "pygments_lexer": "ipython3",
   "version": "3.6.4"
  }
 },
 "nbformat": 4,
 "nbformat_minor": 2
}
