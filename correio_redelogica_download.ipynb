{
 "cells": [
  {
   "cell_type": "markdown",
   "metadata": {},
   "source": [
    "# Programa para fazer download dos arquivos da base de dados do Correio (órgãos, cartões, usuários, faturas lidas e faturas aceites)"
   ]
  },
  {
   "cell_type": "code",
   "execution_count": 1,
   "metadata": {},
   "outputs": [],
   "source": [
    "#Importa as bibliotecas\n",
    "import csv\n",
    "import pyodbc as db"
   ]
  },
  {
   "cell_type": "code",
   "execution_count": 2,
   "metadata": {},
   "outputs": [],
   "source": [
    "#Criar uma conexão ao SQL Server passando usuário e senha\n",
    "conn = db.connect('DRIVER={SQL Server};SERVER=172.19.216.3;DATABASE=Adm_correio; Uid=Adm_correio;Pwd=')"
   ]
  },
  {
   "cell_type": "markdown",
   "metadata": {},
   "source": [
    "# Órgão"
   ]
  },
  {
   "cell_type": "code",
   "execution_count": 3,
   "metadata": {},
   "outputs": [],
   "source": [
    "cursor = conn.cursor()"
   ]
  },
  {
   "cell_type": "code",
   "execution_count": 4,
   "metadata": {},
   "outputs": [],
   "source": [
    "#Seleciona qual tabela vai buscar - Orgao\n",
    "query = 'SELECT * FROM Adm_correio.dbo.ORGAO'"
   ]
  },
  {
   "cell_type": "code",
   "execution_count": 5,
   "metadata": {},
   "outputs": [
    {
     "data": {
      "text/plain": [
       "<pyodbc.Cursor at 0x13502cb5af8>"
      ]
     },
     "execution_count": 5,
     "metadata": {},
     "output_type": "execute_result"
    }
   ],
   "source": [
    "cursor.execute(query)"
   ]
  },
  {
   "cell_type": "code",
   "execution_count": 6,
   "metadata": {},
   "outputs": [],
   "source": [
    "row = cursor.fetchone() #Busca primeiro órgão"
   ]
  },
  {
   "cell_type": "code",
   "execution_count": 7,
   "metadata": {},
   "outputs": [],
   "source": [
    "#Vai buscar todos os órgãos na tabela e gravar esses no arquivo CSV\n",
    "with open(\"orgaos.csv\", \"w\", encoding = 'utf8', newline='') as outfile:\n",
    "    writer = csv.writer(outfile, quoting=csv.QUOTE_NONNUMERIC)\n",
    "    writer.writerow(['Identificador_Orgao','Nome_Orgao','Sigla_Orgao','Orgao_Ativo'])\n",
    "    for row in cursor:\n",
    "        writer.writerow(row)"
   ]
  },
  {
   "cell_type": "code",
   "execution_count": 8,
   "metadata": {},
   "outputs": [],
   "source": [
    "cursor.close() #Fecha o cursor dos Orgaos"
   ]
  },
  {
   "cell_type": "markdown",
   "metadata": {},
   "source": [
    "# Cartão"
   ]
  },
  {
   "cell_type": "code",
   "execution_count": 9,
   "metadata": {},
   "outputs": [],
   "source": [
    "cursor = conn.cursor()"
   ]
  },
  {
   "cell_type": "code",
   "execution_count": 10,
   "metadata": {},
   "outputs": [],
   "source": [
    "#Seleciona qual tabela vai buscar - Cartao\n",
    "query = 'SELECT * FROM Adm_correio.dbo.CARTAO'"
   ]
  },
  {
   "cell_type": "code",
   "execution_count": 11,
   "metadata": {},
   "outputs": [
    {
     "data": {
      "text/plain": [
       "<pyodbc.Cursor at 0x13502cb5c60>"
      ]
     },
     "execution_count": 11,
     "metadata": {},
     "output_type": "execute_result"
    }
   ],
   "source": [
    "cursor.execute(query)"
   ]
  },
  {
   "cell_type": "code",
   "execution_count": 12,
   "metadata": {},
   "outputs": [],
   "source": [
    "row = cursor.fetchone() #Busca primeiro cartão"
   ]
  },
  {
   "cell_type": "code",
   "execution_count": 13,
   "metadata": {},
   "outputs": [],
   "source": [
    "#Vai buscar todos os cartões na tabela e gravar esses no arquivo CSV\n",
    "with open(\"cartoes.csv\", \"w\", encoding = 'utf8', newline='') as outfile:\n",
    "    writer = csv.writer(outfile, quoting=csv.QUOTE_NONNUMERIC)\n",
    "    writer.writerow(['Identificador_Cartao', 'Identificador_Orgao','Numero_Cartao','Portador_Cartao','Cartao_Ativo'])\n",
    "    for row in cursor:\n",
    "        writer.writerow(row)"
   ]
  },
  {
   "cell_type": "code",
   "execution_count": 14,
   "metadata": {},
   "outputs": [],
   "source": [
    "cursor.close() #Fecha o cursor dos Orgaos"
   ]
  },
  {
   "cell_type": "markdown",
   "metadata": {},
   "source": [
    "# Usuário"
   ]
  },
  {
   "cell_type": "code",
   "execution_count": 15,
   "metadata": {},
   "outputs": [],
   "source": [
    "cursor = conn.cursor()"
   ]
  },
  {
   "cell_type": "code",
   "execution_count": 16,
   "metadata": {},
   "outputs": [],
   "source": [
    "#Seleciona qual tabela vai buscar - Usuário\n",
    "query = 'SELECT * FROM Adm_correio.dbo.USUARIO'"
   ]
  },
  {
   "cell_type": "code",
   "execution_count": 17,
   "metadata": {},
   "outputs": [
    {
     "data": {
      "text/plain": [
       "<pyodbc.Cursor at 0x13502cb5f30>"
      ]
     },
     "execution_count": 17,
     "metadata": {},
     "output_type": "execute_result"
    }
   ],
   "source": [
    "cursor.execute(query)"
   ]
  },
  {
   "cell_type": "code",
   "execution_count": 18,
   "metadata": {},
   "outputs": [],
   "source": [
    "row = cursor.fetchone() #Busca primeiro usuário"
   ]
  },
  {
   "cell_type": "code",
   "execution_count": 19,
   "metadata": {},
   "outputs": [],
   "source": [
    "#Vai buscar todos os usuários na tabela e gravar esses no arquivo CSV\n",
    "with open(\"usuarios.csv\", \"w\", encoding = 'utf8', newline='') as outfile:\n",
    "    writer = csv.writer(outfile, quoting=csv.QUOTE_NONNUMERIC)\n",
    "    writer.writerow(['Identificador_Usuario', 'Tipo_Usuario','Tipo_Acesso','Identificador_Orgao','Nome_Usuario', 'Numero_Matricula', 'Numero_Digito_Verificador', 'Numero_Vinculo', 'Numero_Telefone', 'Codigo_Area', 'Lotacao', 'Endereco_Email', 'Senha', 'Data_Cadastro', 'Usuario_Ativo', 'Primeira_Vez' ])\n",
    "    for row in cursor:\n",
    "        writer.writerow(row)"
   ]
  },
  {
   "cell_type": "code",
   "execution_count": 20,
   "metadata": {},
   "outputs": [],
   "source": [
    "cursor.close() #Fecha o cursor dos Usuarios"
   ]
  },
  {
   "cell_type": "markdown",
   "metadata": {},
   "source": [
    "# Movimentos"
   ]
  },
  {
   "cell_type": "code",
   "execution_count": 4,
   "metadata": {},
   "outputs": [],
   "source": [
    "#cursor = conn.cursor()\n",
    "#Seleciona qual tabela vai buscar - Movimentos(DB_CORREIO)\n",
    "#query = \"SELECT * FROM Adm_correio.dbo.DB_CORREIO where A_04 = 2018 and A_03 = '03'\"\n",
    "#cursor.execute(query)\n",
    "#row = cursor.fetchone() #Busca primeiro movimento"
   ]
  },
  {
   "cell_type": "code",
   "execution_count": 5,
   "metadata": {},
   "outputs": [],
   "source": [
    "#Vai buscar todos os usuários na tabela e gravar esses no arquivo CSV\n",
    "#with open(\"movimentos.csv\", \"w\", encoding = 'utf8', newline='') as outfile:\n",
    "#    writer = csv.writer(outfile, quoting=csv.QUOTE_NONNUMERIC)\n",
    "#    writer.writerow(['Numero_Sequencial_Registro', 'Tipo_Registro','Mes_Fatura','Ano_Fatura','Numero_Fatura', 'Numero_Contrato', 'Numero_Centro_Custo', 'CNPJ', 'Codigo_Barras', 'Filler_A', 'Numero_Lancamento', 'Numero_Cartao', 'Data_Postagem', 'Descricao_Servico', 'Numero_Documento', 'Numero_Lote', 'Servico_Adicional', 'Numero_Destino', 'Numero_Unidade_Postagem', 'Unidade_Postagem', 'Peso', 'Quantidade', 'Valor_Unitario', 'Valor_Desconto', 'Valor_Liquido', 'Nota_Fiscal_Cliente', 'Codigo_Servico_ECT', 'Responsavel_Cartao', 'Numero_Lancamento_Credito', 'Descricao_Credito', 'Valor_Original_Credito', 'Valor_Corrigido_Credito', 'Codigo_Operacao_ECT_Credito', 'Filler_C' 'Descricao_Debito', 'Valor_Debito', 'Codigo_Operacao_ECT_Debito', 'Filler_D' 'Quantidade_Registros_Tipo_B', 'Quantidade_resgistros_Tipo_C', 'Valor_Total_Debitos', 'Valor_Total_Creditos', 'Valor_Total_Outros_Debitos', 'Valor_Total_Outros_Credito', 'Valor_Total_Fatura', 'Fillzer_Z', 'Numero_Objeto', 'Filler_B' ])\n",
    "#    for row in cursor:\n",
    "#        writer.writerow(row)"
   ]
  },
  {
   "cell_type": "code",
   "execution_count": 6,
   "metadata": {},
   "outputs": [],
   "source": [
    "#cursor.close() #Fecha o cursor dos Movimentos"
   ]
  },
  {
   "cell_type": "code",
   "execution_count": 7,
   "metadata": {},
   "outputs": [],
   "source": [
    "#conn.close()"
   ]
  },
  {
   "cell_type": "code",
   "execution_count": null,
   "metadata": {},
   "outputs": [],
   "source": [
    "#TABELAS BÁSICAS\n",
    "#ÓRGÃO\n",
    "create table correio_redelogica_orgao (\n",
    "    nu_orgao int,\n",
    "    nm_orgao varchar(80),\n",
    "    sg_orgao varchar(80),\n",
    "    fg_ativo int\n",
    ");\n",
    "\n",
    "#CARTÃO\n",
    "create table correio_redelogica_cartao (\n",
    "    id_cartao int,\n",
    "    nu_orgao int,\n",
    "    nu_numero varchar(12),\n",
    "    ds_responsavel varchar(50),\n",
    "    fg_ativo int\n",
    ");\n",
    "\n",
    "#TIPO DE USUÁRIO\n",
    "create table correio_redelogica_tipo_usuario(\n",
    "    id_tp_usuario int,\n",
    "    ds_tp_usuario varchar(50)\n",
    ");\n",
    "\n",
    "#TIPO DE ACESSO\n",
    "create table correio_redelogica_tipo_acesso(\n",
    "    id_tp_acesso int,\n",
    "    ds_tp_acesso varchar(50)\n",
    ");\n",
    "\n",
    "#USUÁRIO\n",
    "create table correio_redelogica_usuario (\n",
    "    id_usuario int,\n",
    "    id_tp_usuario int,\n",
    "    id_tp_acesso int,\n",
    "    nu_orgao int,\n",
    "    nm_usuario varchar(80),\n",
    "    nu_matricula varchar(20),\n",
    "    nu_digito varchar(2),\n",
    "    nu_vinculo varchar(2),\n",
    "    nu_telefone varchar(20),\n",
    "    nu_codigo_area varchar(10),\n",
    "    ds_lotacao varchar(100),\n",
    "    ds_email varchar(80),\n",
    "    ds_senha varchar(20),\n",
    "    dt_cadastro datetime,\n",
    "    fg_ativo int,\n",
    "    fg_primeiravez int\n",
    ");\n",
    "\n",
    "#TABELAS DE MOVIMENTAÇÃO\n",
    "#FATURAS LIDAS\n",
    "create table correio_redelogica_fatura_lida (\n",
    "    id_registro int,\n",
    "    nu_orgao int,\n",
    "    nu_mes varchar(2),\n",
    "    nu_ano varchar(4),\n",
    "    dt_leitura datetime,\n",
    "    nm_usuario_leitura varchar(80),\n",
    "    nu_matricula varchar(80),\n",
    "    ds_lotacao varchar(80),\n",
    "    nu_ip_leitura varchar(80)\n",
    ");\n",
    "\n",
    "#FATURAS ACEITES\n",
    "create table correio_redelogica_fatura_aceite (\n",
    "    id_registro int,\n",
    "    nu_orgao int,\n",
    "    nu_mes varchar(2),\n",
    "    nu_ano varchar(4),\n",
    "    dt_aceite datetime,\n",
    "    nm_usuario_aceite varchar(80),\n",
    "    nu_matricula varchar(80),\n",
    "    ds_lotacao varchar(80),\n",
    "    nu_ip_aceite varchar(80),\n",
    "    dt_pag_banc datetime,\n",
    "    vl_pag_banc decimal(12,2),\n",
    "    ds_ord_banc varchar(80),\n",
    "    nu_ord_banc varchar(80),\n",
    "    nm_usuario_banc varchar(80),\n",
    "    nu_ip_usuario_banc varchar(80),\n",
    "    fg_homologado int,\n",
    "    nm_usuario_homo varchar(80),\n",
    "    dt_homologacao datetime,\n",
    "    ds_homologacao varchar(255)\n",
    ");\n",
    "\n",
    "#AJUSTE FINANCEIRO\n",
    "create table correio_redelogica_ajuste_financeiro (\n",
    "    id_ajuste int,\n",
    "    cd_orgao int,\n",
    "    nu_mes varchar(2), \n",
    "    nu_ano varchar(4), \n",
    "    vl_ajuste decimal(12,2),\n",
    "    tp_ajuste varchar(1),\n",
    "    ds_ajuste varchar(255), \n",
    "    ds_arquivo varchar(50),\n",
    "    fg_homologado varchar(1)\n",
    ");\n"
   ]
  }
 ],
 "metadata": {
  "kernelspec": {
   "display_name": "Python 3",
   "language": "python",
   "name": "python3"
  },
  "language_info": {
   "codemirror_mode": {
    "name": "ipython",
    "version": 3
   },
   "file_extension": ".py",
   "mimetype": "text/x-python",
   "name": "python",
   "nbconvert_exporter": "python",
   "pygments_lexer": "ipython3",
   "version": "3.6.4"
  }
 },
 "nbformat": 4,
 "nbformat_minor": 2
}
